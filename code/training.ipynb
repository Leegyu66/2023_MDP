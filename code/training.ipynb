{
 "cells": [
  {
   "cell_type": "code",
   "execution_count": 1,
   "id": "4f69c91b",
   "metadata": {},
   "outputs": [],
   "source": [
    "import os\n",
    "import numpy as np\n",
    "\n",
    "DATA_PATH = os.path.join('datasets')\n",
    "\n",
    "no_sequences = 30\n",
    "sequence_length = 30\n",
    "actions = np.array(['hello', 'happy', 'iloveyou'])"
   ]
  },
  {
   "cell_type": "code",
   "execution_count": 2,
   "id": "061f1ba8-d259-4a8c-9473-66da773497e6",
   "metadata": {},
   "outputs": [],
   "source": [
    "label_map = {label:num for num, label in enumerate(actions)}"
   ]
  },
  {
   "cell_type": "code",
   "execution_count": 3,
   "id": "90a1aa65-7569-4311-817b-009e4d5e24ed",
   "metadata": {},
   "outputs": [
    {
     "data": {
      "text/plain": [
       "(90, 30, 141)"
      ]
     },
     "execution_count": 3,
     "metadata": {},
     "output_type": "execute_result"
    }
   ],
   "source": [
    "sequences, labels = [], []\n",
    "for action in actions:\n",
    "    for sequence in range(no_sequences):\n",
    "        window = []\n",
    "        for frame_num in range(sequence_length):\n",
    "            rep = []\n",
    "            res = np.load(os.path.join(DATA_PATH, action, str(sequence), \"{}.npy\".format(frame_num)))\n",
    "            for i in res:\n",
    "                rep.append(np.float32(i))\n",
    "            window.append(rep)\n",
    "        sequences.append(window)\n",
    "        labels.append(label_map[action])\n",
    "\n",
    "np.array(sequences, dtype=np.float32).shape"
   ]
  },
  {
   "cell_type": "code",
   "execution_count": 4,
   "id": "c594c483-86b7-4c32-904c-310881e4c0de",
   "metadata": {},
   "outputs": [
    {
     "name": "stdout",
     "output_type": "stream",
     "text": [
      "[0 0 0 0 0 0 0 0 0 0 0 0 0 0 0 0 0 0 0 0 0 0 0 0 0 0 0 0 0 0 1 1 1 1 1 1 1\n",
      " 1 1 1 1 1 1 1 1 1 1 1 1 1 1 1 1 1 1 1 1 1 1 1 2 2 2 2 2 2 2 2 2 2 2 2 2 2\n",
      " 2 2 2 2 2 2 2 2 2 2 2 2 2 2 2 2]\n"
     ]
    }
   ],
   "source": [
    "X = np.array(sequences)\n",
    "labels = np.array(labels)\n",
    "print(labels)"
   ]
  },
  {
   "cell_type": "code",
   "execution_count": 5,
   "id": "fd833370-8488-4371-8175-e6331bc3e5b0",
   "metadata": {},
   "outputs": [],
   "source": [
    "import numpy as np\n",
    "import tensorflow as tf\n",
    "from tensorflow.keras import Sequential\n",
    "from tensorflow.keras.layers import Dense, LSTM, BatchNormalization\n",
    "from tensorflow.keras.optimizers import Adam, SGD\n",
    "from tensorflow.keras.losses import CategoricalCrossentropy\n",
    "from tensorflow.keras.models import load_model"
   ]
  },
  {
   "cell_type": "code",
   "execution_count": 6,
   "id": "70cc65dd-5507-4f44-a22a-55dbe922f602",
   "metadata": {},
   "outputs": [],
   "source": [
    "from tensorflow.keras.utils import to_categorical\n",
    "from sklearn.model_selection import train_test_split"
   ]
  },
  {
   "cell_type": "code",
   "execution_count": 14,
   "id": "5f5333bf-0c73-4677-b1a0-528284b21749",
   "metadata": {},
   "outputs": [
    {
     "data": {
      "text/plain": [
       "((81, 30, 141), (9, 30, 141), (81, 3), (9, 3))"
      ]
     },
     "execution_count": 14,
     "metadata": {},
     "output_type": "execute_result"
    }
   ],
   "source": [
    "label = to_categorical(labels)\n",
    "X_train, X_test, y_train, y_test = train_test_split(X, label, test_size=0.1)\n",
    "X_train.shape, X_test.shape, y_train.shape, y_test.shape"
   ]
  },
  {
   "cell_type": "code",
   "execution_count": 21,
   "id": "28851df2",
   "metadata": {
    "scrolled": true
   },
   "outputs": [
    {
     "name": "stdout",
     "output_type": "stream",
     "text": [
      "Epoch 1/80\n",
      "11/11 [==============================] - 4s 26ms/step - loss: 1.3920 - acc: 0.3457\n",
      "Epoch 2/80\n",
      "11/11 [==============================] - 0s 25ms/step - loss: 1.0379 - acc: 0.4691\n",
      "Epoch 3/80\n",
      "11/11 [==============================] - 0s 25ms/step - loss: 1.1635 - acc: 0.5062\n",
      "Epoch 4/80\n",
      "11/11 [==============================] - 0s 26ms/step - loss: 1.0687 - acc: 0.5185\n",
      "Epoch 5/80\n",
      "11/11 [==============================] - 0s 25ms/step - loss: 0.8966 - acc: 0.5802\n",
      "Epoch 6/80\n",
      "11/11 [==============================] - 0s 26ms/step - loss: 1.1428 - acc: 0.3951\n",
      "Epoch 7/80\n",
      "11/11 [==============================] - 0s 26ms/step - loss: 1.5552 - acc: 0.3580\n",
      "Epoch 8/80\n",
      "11/11 [==============================] - 0s 27ms/step - loss: 1.3855 - acc: 0.2346\n",
      "Epoch 9/80\n",
      "11/11 [==============================] - 0s 26ms/step - loss: 1.3049 - acc: 0.3457\n",
      "Epoch 10/80\n",
      "11/11 [==============================] - 0s 26ms/step - loss: 1.1711 - acc: 0.4198\n",
      "Epoch 11/80\n",
      "11/11 [==============================] - 0s 26ms/step - loss: 1.1420 - acc: 0.3827\n",
      "Epoch 12/80\n",
      "11/11 [==============================] - 0s 26ms/step - loss: 1.1765 - acc: 0.4074\n",
      "Epoch 13/80\n",
      "11/11 [==============================] - 0s 26ms/step - loss: 0.8921 - acc: 0.5309\n",
      "Epoch 14/80\n",
      "11/11 [==============================] - 0s 27ms/step - loss: 0.6528 - acc: 0.7407\n",
      "Epoch 15/80\n",
      "11/11 [==============================] - 0s 27ms/step - loss: 0.5571 - acc: 0.8395\n",
      "Epoch 16/80\n",
      "11/11 [==============================] - 0s 27ms/step - loss: 0.4899 - acc: 0.8519\n",
      "Epoch 17/80\n",
      "11/11 [==============================] - 0s 26ms/step - loss: 0.4734 - acc: 0.8765\n",
      "Epoch 18/80\n",
      "11/11 [==============================] - 0s 27ms/step - loss: 0.4707 - acc: 0.8395\n",
      "Epoch 19/80\n",
      "11/11 [==============================] - 0s 27ms/step - loss: 0.4513 - acc: 0.8765\n",
      "Epoch 20/80\n",
      "11/11 [==============================] - 0s 27ms/step - loss: 0.3488 - acc: 0.9383\n",
      "Epoch 21/80\n",
      "11/11 [==============================] - 0s 26ms/step - loss: 0.4232 - acc: 0.8642\n",
      "Epoch 22/80\n",
      "11/11 [==============================] - 0s 27ms/step - loss: 0.8840 - acc: 0.6790\n",
      "Epoch 23/80\n",
      "11/11 [==============================] - 0s 28ms/step - loss: 1.0513 - acc: 0.5185\n",
      "Epoch 24/80\n",
      "11/11 [==============================] - 0s 23ms/step - loss: 0.9732 - acc: 0.5432\n",
      "Epoch 25/80\n",
      "11/11 [==============================] - 0s 26ms/step - loss: 0.9222 - acc: 0.6420\n",
      "Epoch 26/80\n",
      "11/11 [==============================] - 0s 26ms/step - loss: 0.8818 - acc: 0.5679\n",
      "Epoch 27/80\n",
      "11/11 [==============================] - 0s 27ms/step - loss: 0.5881 - acc: 0.7901\n",
      "Epoch 28/80\n",
      "11/11 [==============================] - 0s 25ms/step - loss: 0.5012 - acc: 0.8765\n",
      "Epoch 29/80\n",
      "11/11 [==============================] - 0s 26ms/step - loss: 0.4704 - acc: 0.8642\n",
      "Epoch 30/80\n",
      "11/11 [==============================] - 0s 26ms/step - loss: 0.6373 - acc: 0.7531\n",
      "Epoch 31/80\n",
      "11/11 [==============================] - 0s 26ms/step - loss: 0.3232 - acc: 0.9259\n",
      "Epoch 32/80\n",
      "11/11 [==============================] - 0s 26ms/step - loss: 0.5141 - acc: 0.7654\n",
      "Epoch 33/80\n",
      "11/11 [==============================] - 0s 28ms/step - loss: 0.7563 - acc: 0.7160\n",
      "Epoch 34/80\n",
      "11/11 [==============================] - 0s 26ms/step - loss: 0.5571 - acc: 0.7901\n",
      "Epoch 35/80\n",
      "11/11 [==============================] - 0s 27ms/step - loss: 0.4517 - acc: 0.8765\n",
      "Epoch 36/80\n",
      "11/11 [==============================] - 0s 27ms/step - loss: 0.3820 - acc: 0.8765\n",
      "Epoch 37/80\n",
      "11/11 [==============================] - 0s 26ms/step - loss: 0.2871 - acc: 0.8889\n",
      "Epoch 38/80\n",
      "11/11 [==============================] - 0s 27ms/step - loss: 0.3661 - acc: 0.9136\n",
      "Epoch 39/80\n",
      "11/11 [==============================] - 0s 27ms/step - loss: 0.2663 - acc: 0.9506\n",
      "Epoch 40/80\n",
      "11/11 [==============================] - 0s 26ms/step - loss: 0.4091 - acc: 0.9012\n",
      "Epoch 41/80\n",
      "11/11 [==============================] - 0s 26ms/step - loss: 0.5364 - acc: 0.7407\n",
      "Epoch 42/80\n",
      "11/11 [==============================] - 0s 27ms/step - loss: 0.4212 - acc: 0.8765\n",
      "Epoch 43/80\n",
      "11/11 [==============================] - 0s 27ms/step - loss: 0.4542 - acc: 0.8395\n",
      "Epoch 44/80\n",
      "11/11 [==============================] - 0s 27ms/step - loss: 0.6911 - acc: 0.7654\n",
      "Epoch 45/80\n",
      "11/11 [==============================] - 0s 27ms/step - loss: 0.6115 - acc: 0.7531\n",
      "Epoch 46/80\n",
      "11/11 [==============================] - 0s 26ms/step - loss: 0.5388 - acc: 0.7284\n",
      "Epoch 47/80\n",
      "11/11 [==============================] - 0s 26ms/step - loss: 0.4371 - acc: 0.8519\n",
      "Epoch 48/80\n",
      "11/11 [==============================] - 0s 26ms/step - loss: 0.3148 - acc: 0.9012\n",
      "Epoch 49/80\n",
      "11/11 [==============================] - 0s 26ms/step - loss: 0.3812 - acc: 0.8519\n",
      "Epoch 50/80\n",
      "11/11 [==============================] - 0s 26ms/step - loss: 0.1790 - acc: 0.9506\n",
      "Epoch 51/80\n",
      "11/11 [==============================] - 0s 26ms/step - loss: 0.2371 - acc: 0.9506\n",
      "Epoch 52/80\n",
      "11/11 [==============================] - 0s 26ms/step - loss: 0.1449 - acc: 1.0000\n",
      "Epoch 53/80\n",
      "11/11 [==============================] - 0s 25ms/step - loss: 0.2372 - acc: 0.9383\n",
      "Epoch 54/80\n",
      "11/11 [==============================] - 0s 25ms/step - loss: 0.2557 - acc: 0.9383\n",
      "Epoch 55/80\n",
      "11/11 [==============================] - 0s 26ms/step - loss: 0.2903 - acc: 0.9259\n",
      "Epoch 56/80\n",
      "11/11 [==============================] - 0s 26ms/step - loss: 0.1760 - acc: 0.9506\n",
      "Epoch 57/80\n",
      "11/11 [==============================] - 0s 25ms/step - loss: 0.1114 - acc: 1.0000\n",
      "Epoch 58/80\n",
      "11/11 [==============================] - 0s 21ms/step - loss: 0.0963 - acc: 0.9877\n",
      "Epoch 59/80\n",
      "11/11 [==============================] - 0s 15ms/step - loss: 0.1113 - acc: 0.9753\n",
      "Epoch 60/80\n",
      "11/11 [==============================] - 0s 23ms/step - loss: 0.1592 - acc: 0.9630\n",
      "Epoch 61/80\n",
      "11/11 [==============================] - 0s 22ms/step - loss: 0.0962 - acc: 0.9877\n",
      "Epoch 62/80\n",
      "11/11 [==============================] - 0s 26ms/step - loss: 0.1845 - acc: 0.9506\n",
      "Epoch 63/80\n",
      "11/11 [==============================] - 0s 25ms/step - loss: 0.2815 - acc: 0.8889\n",
      "Epoch 64/80\n",
      "11/11 [==============================] - 0s 25ms/step - loss: 0.1338 - acc: 0.9753\n",
      "Epoch 65/80\n",
      "11/11 [==============================] - 0s 25ms/step - loss: 0.0855 - acc: 0.9877\n",
      "Epoch 66/80\n",
      "11/11 [==============================] - 0s 26ms/step - loss: 0.1440 - acc: 0.9630\n",
      "Epoch 67/80\n",
      "11/11 [==============================] - 0s 26ms/step - loss: 0.2354 - acc: 0.9383\n",
      "Epoch 68/80\n",
      "11/11 [==============================] - 0s 26ms/step - loss: 0.1393 - acc: 0.9630\n",
      "Epoch 69/80\n",
      "11/11 [==============================] - 0s 27ms/step - loss: 0.1655 - acc: 0.9630\n",
      "Epoch 70/80\n",
      "11/11 [==============================] - 0s 26ms/step - loss: 0.1563 - acc: 0.9383\n",
      "Epoch 71/80\n",
      "11/11 [==============================] - 0s 26ms/step - loss: 0.1234 - acc: 0.9753\n",
      "Epoch 72/80\n",
      "11/11 [==============================] - 0s 26ms/step - loss: 0.1512 - acc: 0.9506\n",
      "Epoch 73/80\n",
      "11/11 [==============================] - 0s 26ms/step - loss: 0.0762 - acc: 0.9877\n",
      "Epoch 74/80\n",
      "11/11 [==============================] - 0s 26ms/step - loss: 0.1788 - acc: 0.9259\n",
      "Epoch 75/80\n",
      "11/11 [==============================] - 0s 26ms/step - loss: 0.2556 - acc: 0.9630\n",
      "Epoch 76/80\n",
      "11/11 [==============================] - 0s 26ms/step - loss: 0.0718 - acc: 1.0000\n",
      "Epoch 77/80\n",
      "11/11 [==============================] - 0s 27ms/step - loss: 0.1490 - acc: 0.9753\n",
      "Epoch 78/80\n",
      "11/11 [==============================] - 0s 27ms/step - loss: 0.0780 - acc: 1.0000\n",
      "Epoch 79/80\n",
      "11/11 [==============================] - 0s 27ms/step - loss: 0.0757 - acc: 0.9877\n",
      "Epoch 80/80\n",
      "11/11 [==============================] - 0s 26ms/step - loss: 0.1753 - acc: 0.9136\n"
     ]
    }
   ],
   "source": [
    "try:\n",
    "    os.makedir('models')\n",
    "except:\n",
    "    pass\n",
    "\n",
    "model_path = os.path.join('models', 'model.h5')\n",
    "    \n",
    "model = Sequential([\n",
    "    LSTM(100, activation='LeakyReLU', input_shape=(X_train.shape[1:])),\n",
    "    BatchNormalization(),\n",
    "    Dense(75, activation = 'LeakyReLU'),\n",
    "    BatchNormalization(),\n",
    "    Dense(50, activation='LeakyReLU'),\n",
    "    BatchNormalization(),\n",
    "    Dense(25, activation='LeakyReLU'),\n",
    "    BatchNormalization(),\n",
    "    Dense(9, activation='LeakyReLU'),\n",
    "    BatchNormalization(),\n",
    "    Dense(3, activation='softmax')\n",
    "])\n",
    "\n",
    "model.compile(optimizer=Adam(),\n",
    "              loss='CategoricalCrossentropy',\n",
    "              metrics=['acc'])\n",
    "\n",
    "EPOCHS = 80\n",
    "BATCHSIZE = 8\n",
    "\n",
    "model.fit(X_train, y_train, epochs=EPOCHS, batch_size=BATCHSIZE)\n",
    "model.save(model_path)"
   ]
  },
  {
   "cell_type": "code",
   "execution_count": 22,
   "id": "20790ec0-c623-4eb9-b6d4-6729839eb61b",
   "metadata": {},
   "outputs": [
    {
     "name": "stdout",
     "output_type": "stream",
     "text": [
      "1/1 [==============================] - 1s 611ms/step - loss: 0.0180 - acc: 1.0000\n"
     ]
    },
    {
     "data": {
      "text/plain": [
       "[0.017973951995372772, 1.0]"
      ]
     },
     "execution_count": 22,
     "metadata": {},
     "output_type": "execute_result"
    }
   ],
   "source": [
    "models = load_model(model_path)\n",
    "models.evaluate(X_test, y_test)"
   ]
  }
 ],
 "metadata": {
  "kernelspec": {
   "display_name": "Python 3 (ipykernel)",
   "language": "python",
   "name": "python3"
  },
  "language_info": {
   "codemirror_mode": {
    "name": "ipython",
    "version": 3
   },
   "file_extension": ".py",
   "mimetype": "text/x-python",
   "name": "python",
   "nbconvert_exporter": "python",
   "pygments_lexer": "ipython3",
   "version": "3.9.11"
  }
 },
 "nbformat": 4,
 "nbformat_minor": 5
}
