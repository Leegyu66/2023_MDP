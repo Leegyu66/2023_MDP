{
 "cells": [
  {
   "cell_type": "code",
   "execution_count": 3,
   "id": "ec5e1aa0-3bd0-4262-84fb-badfbf6fa4bd",
   "metadata": {},
   "outputs": [],
   "source": [
    "import os\n",
    "import numpy as np\n",
    "import cv2\n",
    "import mediapipe as mp\n",
    "import time\n",
    "from sklearn.model_selection import train_test_split\n",
    "from tensorflow.keras.utils import to_categorical\n",
    "import tensorflow as tf"
   ]
  },
  {
   "cell_type": "code",
   "execution_count": 4,
   "id": "0e64369e-92f7-4d28-a792-2eeb0efc7bbb",
   "metadata": {},
   "outputs": [],
   "source": [
    "import sys  \n",
    "sys.path.insert(0, './')\n",
    "from pose_media import mediapipe_pose"
   ]
  },
  {
   "cell_type": "code",
   "execution_count": 5,
   "id": "a83092f4-6807-4faa-9320-b5a18a513c86",
   "metadata": {},
   "outputs": [],
   "source": [
    "DATA_PATH = \"./DATA/\" \n",
    "if not os.path.exists(DATA_PATH):\n",
    "    os.mkdir(DATA_PATH)  "
   ]
  },
  {
   "cell_type": "code",
   "execution_count": 6,
   "id": "4d368fbc-9647-47ed-af58-1ccac344c452",
   "metadata": {},
   "outputs": [],
   "source": [
    "mp = mediapipe_pose()"
   ]
  },
  {
   "cell_type": "code",
   "execution_count": 7,
   "id": "3a9adf94-3b22-4c6e-9530-81ee222b3dd5",
   "metadata": {},
   "outputs": [],
   "source": [
    "cTime,pTime = 0,0 "
   ]
  },
  {
   "cell_type": "code",
   "execution_count": 9,
   "id": "b619de55-7e63-4fd5-836d-0c4d0931ca9c",
   "metadata": {},
   "outputs": [],
   "source": [
    "sequence_length = 30\n",
    "path = \"./test/\"\n",
    "actions = os.listdir(path)\n",
    "for action in actions:\n",
    "    print(action)"
   ]
  }
 ],
 "metadata": {
  "kernelspec": {
   "display_name": "Python 3 (ipykernel)",
   "language": "python",
   "name": "python3"
  },
  "language_info": {
   "codemirror_mode": {
    "name": "ipython",
    "version": 3
   },
   "file_extension": ".py",
   "mimetype": "text/x-python",
   "name": "python",
   "nbconvert_exporter": "python",
   "pygments_lexer": "ipython3",
   "version": "3.10.12"
  }
 },
 "nbformat": 4,
 "nbformat_minor": 5
}
